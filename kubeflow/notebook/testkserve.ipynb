{
 "cells": [
  {
   "cell_type": "code",
   "execution_count": 3,
   "id": "e9c63d09-7207-440d-855f-3b4813332c01",
   "metadata": {},
   "outputs": [
    {
     "name": "stdout",
     "output_type": "stream",
     "text": [
      "http://bigdata-xgb.bigdata.svc.cluster.local/v1/models/bigdata-xgb:predict\n",
      "Status code: 500\n",
      "Response body: {\"error\":\"[08:48:11] /workspace/src/c_api/../common/json_utils.h:46: Invalid type for: `nthread`, expecting one of the: {``Integer`}, got: `String`\\nStack trace:\\n  [bt] (0) /prod_venv/lib/python3.11/site-packages/xgboost/lib/libxgboost.so(+0x22dbbc) [0x79ee6782dbbc]\\n  [bt] (1) /prod_venv/lib/python3.11/site-packages/xgboost/lib/libxgboost.so(+0x239b84) [0x79ee67839b84]\\n  [bt] (2) /prod_venv/lib/python3.11/site-packages/xgboost/lib/libxgboost.so(+0x239c52) [0x79ee67839c52]\\n  [bt] (3) /prod_venv/lib/python3.11/site-packages/xgboost/lib/libxgboost.so(XGDMatrixCreateFromColumnar+0x97) [0x79ee67760937]\\n  [bt] (4) /lib/x86_64-linux-gnu/libffi.so.8(+0x6f7a) [0x79eea1f12f7a]\\n  [bt] (5) /lib/x86_64-linux-gnu/libffi.so.8(+0x640e) [0x79eea1f1240e]\\n  [bt] (6) /lib/x86_64-linux-gnu/libffi.so.8(ffi_call+0xcd) [0x79eea1f12b0d]\\n  [bt] (7) /usr/local/lib/python3.11/lib-dynload/_ctypes.cpython-311-x86_64-linux-gnu.so(+0x10c5f) [0x79eea1f28c5f]\\n  [bt] (8) /usr/local/lib/python3.11/lib-dynload/_ctypes.cpython-311-x86_64-linux-gnu.so(+0x7cd6) [0x79eea1f1fcd6]\\n\\n\"}\n"
     ]
    }
   ],
   "source": [
    "from kubernetes import client \n",
    "import requests\n",
    "import json\n",
    "from kserve import KServeClient\n",
    "KServe = KServeClient()\n",
    "\n",
    "model_name = \"bigdata-xgb\"\n",
    "namespace = \"bigdata\"\n",
    "kserve = KServeClient()\n",
    "\n",
    "isvc_resp = kserve.get(model_name, namespace=namespace)\n",
    "host_url = isvc_resp[\"status\"][\"address\"][\"url\"].rstrip(\"/\")\n",
    "predict_url = f\"{host_url}/v1/models/{model_name}:predict\"\n",
    "print(predict_url)\n",
    "inference_input = {\n",
    " \"instances\": [\n",
    "    [{\"brand\": 0.0, \"price\": 0.0, \"event_weekday\": 999.99, \"category_code_level1\": 4.5, \"category_code_level2\": 1000, \"activity_count\": 0.0}],\n",
    "    [{\"brand\": 0.0, \"price\": 10.0, \"event_weekday\": 999.99, \"category_code_level1\": 4.5, \"category_code_level2\": 1000, \"activity_count\": 0.0}]\n",
    "  ]\n",
    "}\n",
    "\n",
    "response = requests.post(predict_url, json=inference_input)\n",
    "print(\"Status code:\", response.status_code)\n",
    "print(\"Response body:\", response.text)"
   ]
  }
 ],
 "metadata": {
  "kernelspec": {
   "display_name": "Python 3 (ipykernel)",
   "language": "python",
   "name": "python3"
  },
  "language_info": {
   "codemirror_mode": {
    "name": "ipython",
    "version": 3
   },
   "file_extension": ".py",
   "mimetype": "text/x-python",
   "name": "python",
   "nbconvert_exporter": "python",
   "pygments_lexer": "ipython3",
   "version": "3.11.11"
  }
 },
 "nbformat": 4,
 "nbformat_minor": 5
}
