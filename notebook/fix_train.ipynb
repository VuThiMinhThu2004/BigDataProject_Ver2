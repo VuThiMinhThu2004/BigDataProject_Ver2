{
 "cells": [
  {
   "cell_type": "code",
   "execution_count": 1,
   "id": "cec3a535",
   "metadata": {},
   "outputs": [
    {
     "name": "stderr",
     "output_type": "stream",
     "text": [
      "2025-04-16 20:45:12,424\tINFO client_builder.py:244 -- Passing the following kwargs to ray.init() on the server: log_to_driver\n",
      "SIGTERM handler is not set because current thread is not the main thread.\n"
     ]
    },
    {
     "ename": "RuntimeError",
     "evalue": "Version mismatch: The cluster was started with:\n    Ray: 2.40.0\n    Python: 3.9.20\nThis process on Ray Client was started with:\n    Ray: 2.44.1\n    Python: 3.9.21\n",
     "output_type": "error",
     "traceback": [
      "\u001b[0;31m---------------------------------------------------------------------------\u001b[0m",
      "\u001b[0;31mRuntimeError\u001b[0m                              Traceback (most recent call last)",
      "Cell \u001b[0;32mIn[1], line 13\u001b[0m\n\u001b[1;32m     10\u001b[0m \u001b[38;5;28;01mfrom\u001b[39;00m\u001b[38;5;250m \u001b[39m\u001b[38;5;21;01mray\u001b[39;00m\u001b[38;5;250m \u001b[39m\u001b[38;5;28;01mimport\u001b[39;00m tune\n\u001b[1;32m     11\u001b[0m \u001b[38;5;28;01mfrom\u001b[39;00m\u001b[38;5;250m \u001b[39m\u001b[38;5;21;01mray\u001b[39;00m\u001b[38;5;21;01m.\u001b[39;00m\u001b[38;5;21;01mtrain\u001b[39;00m\u001b[38;5;21;01m.\u001b[39;00m\u001b[38;5;21;01mxgboost\u001b[39;00m\u001b[38;5;250m \u001b[39m\u001b[38;5;28;01mimport\u001b[39;00m XGBoostTrainer\n\u001b[0;32m---> 13\u001b[0m \u001b[43mray\u001b[49m\u001b[38;5;241;43m.\u001b[39;49m\u001b[43minit\u001b[49m\u001b[43m(\u001b[49m\u001b[38;5;124;43m\"\u001b[39;49m\u001b[38;5;124;43mray://10.200.2.51:10001\u001b[39;49m\u001b[38;5;124;43m\"\u001b[39;49m\u001b[43m,\u001b[49m\u001b[43m \u001b[49m\u001b[43mnamespace\u001b[49m\u001b[38;5;241;43m=\u001b[39;49m\u001b[38;5;124;43m\"\u001b[39;49m\u001b[38;5;124;43mexperiment-1\u001b[39;49m\u001b[38;5;124;43m\"\u001b[39;49m\u001b[43m,\u001b[49m\u001b[43m \u001b[49m\u001b[43mlog_to_driver\u001b[49m\u001b[38;5;241;43m=\u001b[39;49m\u001b[38;5;28;43;01mFalse\u001b[39;49;00m\u001b[43m)\u001b[49m\n",
      "File \u001b[0;32m~/miniconda3/envs/py39/lib/python3.9/site-packages/ray/_private/client_mode_hook.py:103\u001b[0m, in \u001b[0;36mclient_mode_hook.<locals>.wrapper\u001b[0;34m(*args, **kwargs)\u001b[0m\n\u001b[1;32m    101\u001b[0m     \u001b[38;5;28;01mif\u001b[39;00m func\u001b[38;5;241m.\u001b[39m\u001b[38;5;18m__name__\u001b[39m \u001b[38;5;241m!=\u001b[39m \u001b[38;5;124m\"\u001b[39m\u001b[38;5;124minit\u001b[39m\u001b[38;5;124m\"\u001b[39m \u001b[38;5;129;01mor\u001b[39;00m is_client_mode_enabled_by_default:\n\u001b[1;32m    102\u001b[0m         \u001b[38;5;28;01mreturn\u001b[39;00m \u001b[38;5;28mgetattr\u001b[39m(ray, func\u001b[38;5;241m.\u001b[39m\u001b[38;5;18m__name__\u001b[39m)(\u001b[38;5;241m*\u001b[39margs, \u001b[38;5;241m*\u001b[39m\u001b[38;5;241m*\u001b[39mkwargs)\n\u001b[0;32m--> 103\u001b[0m \u001b[38;5;28;01mreturn\u001b[39;00m \u001b[43mfunc\u001b[49m\u001b[43m(\u001b[49m\u001b[38;5;241;43m*\u001b[39;49m\u001b[43margs\u001b[49m\u001b[43m,\u001b[49m\u001b[43m \u001b[49m\u001b[38;5;241;43m*\u001b[39;49m\u001b[38;5;241;43m*\u001b[39;49m\u001b[43mkwargs\u001b[49m\u001b[43m)\u001b[49m\n",
      "File \u001b[0;32m~/miniconda3/envs/py39/lib/python3.9/site-packages/ray/_private/worker.py:1545\u001b[0m, in \u001b[0;36minit\u001b[0;34m(address, num_cpus, num_gpus, resources, labels, object_store_memory, local_mode, ignore_reinit_error, include_dashboard, dashboard_host, dashboard_port, job_config, configure_logging, logging_level, logging_format, logging_config, log_to_driver, namespace, runtime_env, storage, **kwargs)\u001b[0m\n\u001b[1;32m   1543\u001b[0m passed_kwargs\u001b[38;5;241m.\u001b[39mupdate(kwargs)\n\u001b[1;32m   1544\u001b[0m builder\u001b[38;5;241m.\u001b[39m_init_args(\u001b[38;5;241m*\u001b[39m\u001b[38;5;241m*\u001b[39mpassed_kwargs)\n\u001b[0;32m-> 1545\u001b[0m ctx \u001b[38;5;241m=\u001b[39m \u001b[43mbuilder\u001b[49m\u001b[38;5;241;43m.\u001b[39;49m\u001b[43mconnect\u001b[49m\u001b[43m(\u001b[49m\u001b[43m)\u001b[49m\n\u001b[1;32m   1546\u001b[0m \u001b[38;5;28;01mfrom\u001b[39;00m\u001b[38;5;250m \u001b[39m\u001b[38;5;21;01mray\u001b[39;00m\u001b[38;5;21;01m.\u001b[39;00m\u001b[38;5;21;01m_private\u001b[39;00m\u001b[38;5;21;01m.\u001b[39;00m\u001b[38;5;21;01musage\u001b[39;00m\u001b[38;5;250m \u001b[39m\u001b[38;5;28;01mimport\u001b[39;00m usage_lib\n\u001b[1;32m   1548\u001b[0m \u001b[38;5;28;01mif\u001b[39;00m passed_kwargs\u001b[38;5;241m.\u001b[39mget(\u001b[38;5;124m\"\u001b[39m\u001b[38;5;124mallow_multiple\u001b[39m\u001b[38;5;124m\"\u001b[39m) \u001b[38;5;129;01mis\u001b[39;00m \u001b[38;5;28;01mTrue\u001b[39;00m:\n",
      "File \u001b[0;32m~/miniconda3/envs/py39/lib/python3.9/site-packages/ray/client_builder.py:175\u001b[0m, in \u001b[0;36mClientBuilder.connect\u001b[0;34m(self)\u001b[0m\n\u001b[1;32m    172\u001b[0m \u001b[38;5;28;01mif\u001b[39;00m \u001b[38;5;28mself\u001b[39m\u001b[38;5;241m.\u001b[39m_allow_multiple_connections:\n\u001b[1;32m    173\u001b[0m     old_ray_cxt \u001b[38;5;241m=\u001b[39m ray\u001b[38;5;241m.\u001b[39mutil\u001b[38;5;241m.\u001b[39mclient\u001b[38;5;241m.\u001b[39mray\u001b[38;5;241m.\u001b[39mset_context(\u001b[38;5;28;01mNone\u001b[39;00m)\n\u001b[0;32m--> 175\u001b[0m client_info_dict \u001b[38;5;241m=\u001b[39m \u001b[43mray\u001b[49m\u001b[38;5;241;43m.\u001b[39;49m\u001b[43mutil\u001b[49m\u001b[38;5;241;43m.\u001b[39;49m\u001b[43mclient_connect\u001b[49m\u001b[38;5;241;43m.\u001b[39;49m\u001b[43mconnect\u001b[49m\u001b[43m(\u001b[49m\n\u001b[1;32m    176\u001b[0m \u001b[43m    \u001b[49m\u001b[38;5;28;43mself\u001b[39;49m\u001b[38;5;241;43m.\u001b[39;49m\u001b[43maddress\u001b[49m\u001b[43m,\u001b[49m\n\u001b[1;32m    177\u001b[0m \u001b[43m    \u001b[49m\u001b[43mjob_config\u001b[49m\u001b[38;5;241;43m=\u001b[39;49m\u001b[38;5;28;43mself\u001b[39;49m\u001b[38;5;241;43m.\u001b[39;49m\u001b[43m_job_config\u001b[49m\u001b[43m,\u001b[49m\n\u001b[1;32m    178\u001b[0m \u001b[43m    \u001b[49m\u001b[43m_credentials\u001b[49m\u001b[38;5;241;43m=\u001b[39;49m\u001b[38;5;28;43mself\u001b[39;49m\u001b[38;5;241;43m.\u001b[39;49m\u001b[43m_credentials\u001b[49m\u001b[43m,\u001b[49m\n\u001b[1;32m    179\u001b[0m \u001b[43m    \u001b[49m\u001b[43mray_init_kwargs\u001b[49m\u001b[38;5;241;43m=\u001b[39;49m\u001b[38;5;28;43mself\u001b[39;49m\u001b[38;5;241;43m.\u001b[39;49m\u001b[43m_remote_init_kwargs\u001b[49m\u001b[43m,\u001b[49m\n\u001b[1;32m    180\u001b[0m \u001b[43m    \u001b[49m\u001b[43mmetadata\u001b[49m\u001b[38;5;241;43m=\u001b[39;49m\u001b[38;5;28;43mself\u001b[39;49m\u001b[38;5;241;43m.\u001b[39;49m\u001b[43m_metadata\u001b[49m\u001b[43m,\u001b[49m\n\u001b[1;32m    181\u001b[0m \u001b[43m\u001b[49m\u001b[43m)\u001b[49m\n\u001b[1;32m    183\u001b[0m dashboard_url \u001b[38;5;241m=\u001b[39m ray\u001b[38;5;241m.\u001b[39mutil\u001b[38;5;241m.\u001b[39mclient\u001b[38;5;241m.\u001b[39mray\u001b[38;5;241m.\u001b[39m_get_dashboard_url()\n\u001b[1;32m    185\u001b[0m cxt \u001b[38;5;241m=\u001b[39m ClientContext(\n\u001b[1;32m    186\u001b[0m     dashboard_url\u001b[38;5;241m=\u001b[39mdashboard_url,\n\u001b[1;32m    187\u001b[0m     python_version\u001b[38;5;241m=\u001b[39mclient_info_dict[\u001b[38;5;124m\"\u001b[39m\u001b[38;5;124mpython_version\u001b[39m\u001b[38;5;124m\"\u001b[39m],\n\u001b[0;32m   (...)\u001b[0m\n\u001b[1;32m    191\u001b[0m     _context_to_restore\u001b[38;5;241m=\u001b[39mray\u001b[38;5;241m.\u001b[39mutil\u001b[38;5;241m.\u001b[39mclient\u001b[38;5;241m.\u001b[39mray\u001b[38;5;241m.\u001b[39mget_context(),\n\u001b[1;32m    192\u001b[0m )\n",
      "File \u001b[0;32m~/miniconda3/envs/py39/lib/python3.9/site-packages/ray/util/client_connect.py:55\u001b[0m, in \u001b[0;36mconnect\u001b[0;34m(conn_str, secure, metadata, connection_retries, job_config, namespace, ignore_version, _credentials, ray_init_kwargs)\u001b[0m\n\u001b[1;32m     50\u001b[0m _explicitly_enable_client_mode()\n\u001b[1;32m     52\u001b[0m \u001b[38;5;66;03m# TODO(barakmich): https://github.com/ray-project/ray/issues/13274\u001b[39;00m\n\u001b[1;32m     53\u001b[0m \u001b[38;5;66;03m# for supporting things like cert_path, ca_path, etc and creating\u001b[39;00m\n\u001b[1;32m     54\u001b[0m \u001b[38;5;66;03m# the correct metadata\u001b[39;00m\n\u001b[0;32m---> 55\u001b[0m conn \u001b[38;5;241m=\u001b[39m \u001b[43mray\u001b[49m\u001b[38;5;241;43m.\u001b[39;49m\u001b[43mconnect\u001b[49m\u001b[43m(\u001b[49m\n\u001b[1;32m     56\u001b[0m \u001b[43m    \u001b[49m\u001b[43mconn_str\u001b[49m\u001b[43m,\u001b[49m\n\u001b[1;32m     57\u001b[0m \u001b[43m    \u001b[49m\u001b[43mjob_config\u001b[49m\u001b[38;5;241;43m=\u001b[39;49m\u001b[43mjob_config\u001b[49m\u001b[43m,\u001b[49m\n\u001b[1;32m     58\u001b[0m \u001b[43m    \u001b[49m\u001b[43msecure\u001b[49m\u001b[38;5;241;43m=\u001b[39;49m\u001b[43msecure\u001b[49m\u001b[43m,\u001b[49m\n\u001b[1;32m     59\u001b[0m \u001b[43m    \u001b[49m\u001b[43mmetadata\u001b[49m\u001b[38;5;241;43m=\u001b[39;49m\u001b[43mmetadata\u001b[49m\u001b[43m,\u001b[49m\n\u001b[1;32m     60\u001b[0m \u001b[43m    \u001b[49m\u001b[43mconnection_retries\u001b[49m\u001b[38;5;241;43m=\u001b[39;49m\u001b[43mconnection_retries\u001b[49m\u001b[43m,\u001b[49m\n\u001b[1;32m     61\u001b[0m \u001b[43m    \u001b[49m\u001b[43mnamespace\u001b[49m\u001b[38;5;241;43m=\u001b[39;49m\u001b[43mnamespace\u001b[49m\u001b[43m,\u001b[49m\n\u001b[1;32m     62\u001b[0m \u001b[43m    \u001b[49m\u001b[43mignore_version\u001b[49m\u001b[38;5;241;43m=\u001b[39;49m\u001b[43mignore_version\u001b[49m\u001b[43m,\u001b[49m\n\u001b[1;32m     63\u001b[0m \u001b[43m    \u001b[49m\u001b[43m_credentials\u001b[49m\u001b[38;5;241;43m=\u001b[39;49m\u001b[43m_credentials\u001b[49m\u001b[43m,\u001b[49m\n\u001b[1;32m     64\u001b[0m \u001b[43m    \u001b[49m\u001b[43mray_init_kwargs\u001b[49m\u001b[38;5;241;43m=\u001b[39;49m\u001b[43mray_init_kwargs\u001b[49m\u001b[43m,\u001b[49m\n\u001b[1;32m     65\u001b[0m \u001b[43m\u001b[49m\u001b[43m)\u001b[49m\n\u001b[1;32m     66\u001b[0m \u001b[38;5;28;01mreturn\u001b[39;00m conn\n",
      "File \u001b[0;32m~/miniconda3/envs/py39/lib/python3.9/site-packages/ray/util/client/__init__.py:233\u001b[0m, in \u001b[0;36mRayAPIStub.connect\u001b[0;34m(self, *args, **kw_args)\u001b[0m\n\u001b[1;32m    231\u001b[0m \u001b[38;5;28;01mdef\u001b[39;00m\u001b[38;5;250m \u001b[39m\u001b[38;5;21mconnect\u001b[39m(\u001b[38;5;28mself\u001b[39m, \u001b[38;5;241m*\u001b[39margs, \u001b[38;5;241m*\u001b[39m\u001b[38;5;241m*\u001b[39mkw_args):\n\u001b[1;32m    232\u001b[0m     \u001b[38;5;28mself\u001b[39m\u001b[38;5;241m.\u001b[39mget_context()\u001b[38;5;241m.\u001b[39m_inside_client_test \u001b[38;5;241m=\u001b[39m \u001b[38;5;28mself\u001b[39m\u001b[38;5;241m.\u001b[39m_inside_client_test\n\u001b[0;32m--> 233\u001b[0m     conn \u001b[38;5;241m=\u001b[39m \u001b[38;5;28;43mself\u001b[39;49m\u001b[38;5;241;43m.\u001b[39;49m\u001b[43mget_context\u001b[49m\u001b[43m(\u001b[49m\u001b[43m)\u001b[49m\u001b[38;5;241;43m.\u001b[39;49m\u001b[43mconnect\u001b[49m\u001b[43m(\u001b[49m\u001b[38;5;241;43m*\u001b[39;49m\u001b[43margs\u001b[49m\u001b[43m,\u001b[49m\u001b[43m \u001b[49m\u001b[38;5;241;43m*\u001b[39;49m\u001b[38;5;241;43m*\u001b[39;49m\u001b[43mkw_args\u001b[49m\u001b[43m)\u001b[49m\n\u001b[1;32m    234\u001b[0m     \u001b[38;5;28;01mglobal\u001b[39;00m _lock, _all_contexts\n\u001b[1;32m    235\u001b[0m     \u001b[38;5;28;01mwith\u001b[39;00m _lock:\n",
      "File \u001b[0;32m~/miniconda3/envs/py39/lib/python3.9/site-packages/ray/util/client/__init__.py:99\u001b[0m, in \u001b[0;36m_ClientContext.connect\u001b[0;34m(self, conn_str, job_config, secure, metadata, connection_retries, namespace, ignore_version, _credentials, ray_init_kwargs)\u001b[0m\n\u001b[1;32m     97\u001b[0m \u001b[38;5;28mself\u001b[39m\u001b[38;5;241m.\u001b[39mclient_worker\u001b[38;5;241m.\u001b[39m_server_init(job_config, ray_init_kwargs)\n\u001b[1;32m     98\u001b[0m conn_info \u001b[38;5;241m=\u001b[39m \u001b[38;5;28mself\u001b[39m\u001b[38;5;241m.\u001b[39mclient_worker\u001b[38;5;241m.\u001b[39mconnection_info()\n\u001b[0;32m---> 99\u001b[0m \u001b[38;5;28;43mself\u001b[39;49m\u001b[38;5;241;43m.\u001b[39;49m\u001b[43m_check_versions\u001b[49m\u001b[43m(\u001b[49m\u001b[43mconn_info\u001b[49m\u001b[43m,\u001b[49m\u001b[43m \u001b[49m\u001b[43mignore_version\u001b[49m\u001b[43m)\u001b[49m\n\u001b[1;32m    100\u001b[0m \u001b[38;5;28mself\u001b[39m\u001b[38;5;241m.\u001b[39m_register_serializers()\n\u001b[1;32m    101\u001b[0m \u001b[38;5;28;01mreturn\u001b[39;00m conn_info\n",
      "File \u001b[0;32m~/miniconda3/envs/py39/lib/python3.9/site-packages/ray/util/client/__init__.py:121\u001b[0m, in \u001b[0;36m_ClientContext._check_versions\u001b[0;34m(self, conn_info, ignore_version)\u001b[0m\n\u001b[1;32m    118\u001b[0m \u001b[38;5;28;01mdef\u001b[39;00m\u001b[38;5;250m \u001b[39m\u001b[38;5;21m_check_versions\u001b[39m(\u001b[38;5;28mself\u001b[39m, conn_info: Dict[\u001b[38;5;28mstr\u001b[39m, Any], ignore_version: \u001b[38;5;28mbool\u001b[39m) \u001b[38;5;241m-\u001b[39m\u001b[38;5;241m>\u001b[39m \u001b[38;5;28;01mNone\u001b[39;00m:\n\u001b[1;32m    119\u001b[0m     \u001b[38;5;66;03m# conn_info has \"python_version\" and \"ray_version\" so it can be used to compare.\u001b[39;00m\n\u001b[1;32m    120\u001b[0m     ignore_version \u001b[38;5;241m=\u001b[39m ignore_version \u001b[38;5;129;01mor\u001b[39;00m (\u001b[38;5;124m\"\u001b[39m\u001b[38;5;124mRAY_IGNORE_VERSION_MISMATCH\u001b[39m\u001b[38;5;124m\"\u001b[39m \u001b[38;5;129;01min\u001b[39;00m os\u001b[38;5;241m.\u001b[39menviron)\n\u001b[0;32m--> 121\u001b[0m     \u001b[43mcheck_version_info\u001b[49m\u001b[43m(\u001b[49m\n\u001b[1;32m    122\u001b[0m \u001b[43m        \u001b[49m\u001b[43mconn_info\u001b[49m\u001b[43m,\u001b[49m\n\u001b[1;32m    123\u001b[0m \u001b[43m        \u001b[49m\u001b[38;5;124;43m\"\u001b[39;49m\u001b[38;5;124;43mRay Client\u001b[39;49m\u001b[38;5;124;43m\"\u001b[39;49m\u001b[43m,\u001b[49m\n\u001b[1;32m    124\u001b[0m \u001b[43m        \u001b[49m\u001b[43mraise_on_mismatch\u001b[49m\u001b[38;5;241;43m=\u001b[39;49m\u001b[38;5;129;43;01mnot\u001b[39;49;00m\u001b[43m \u001b[49m\u001b[43mignore_version\u001b[49m\u001b[43m,\u001b[49m\n\u001b[1;32m    125\u001b[0m \u001b[43m        \u001b[49m\u001b[43mpython_version_match_level\u001b[49m\u001b[38;5;241;43m=\u001b[39;49m\u001b[38;5;124;43m\"\u001b[39;49m\u001b[38;5;124;43mminor\u001b[39;49m\u001b[38;5;124;43m\"\u001b[39;49m\u001b[43m,\u001b[49m\n\u001b[1;32m    126\u001b[0m \u001b[43m    \u001b[49m\u001b[43m)\u001b[49m\n",
      "File \u001b[0;32m~/miniconda3/envs/py39/lib/python3.9/site-packages/ray/_private/utils.py:1573\u001b[0m, in \u001b[0;36mcheck_version_info\u001b[0;34m(cluster_metadata, this_process_address, raise_on_mismatch, python_version_match_level)\u001b[0m\n\u001b[1;32m   1571\u001b[0m error_message \u001b[38;5;241m=\u001b[39m \u001b[38;5;124mf\u001b[39m\u001b[38;5;124m\"\u001b[39m\u001b[38;5;124mVersion mismatch: \u001b[39m\u001b[38;5;132;01m{\u001b[39;00mmismatch_msg\u001b[38;5;132;01m}\u001b[39;00m\u001b[38;5;124m\"\u001b[39m\n\u001b[1;32m   1572\u001b[0m \u001b[38;5;28;01mif\u001b[39;00m raise_on_mismatch:\n\u001b[0;32m-> 1573\u001b[0m     \u001b[38;5;28;01mraise\u001b[39;00m \u001b[38;5;167;01mRuntimeError\u001b[39;00m(error_message)\n\u001b[1;32m   1574\u001b[0m \u001b[38;5;28;01melse\u001b[39;00m:\n\u001b[1;32m   1575\u001b[0m     logger\u001b[38;5;241m.\u001b[39mwarning(error_message)\n",
      "\u001b[0;31mRuntimeError\u001b[0m: Version mismatch: The cluster was started with:\n    Ray: 2.40.0\n    Python: 3.9.20\nThis process on Ray Client was started with:\n    Ray: 2.44.1\n    Python: 3.9.21\n"
     ]
    }
   ],
   "source": [
    "import os\n",
    "from datetime import datetime, timedelta\n",
    "from typing import Dict, List\n",
    "\n",
    "import mlflow\n",
    "import pandas as pd\n",
    "import psycopg2\n",
    "\n",
    "import ray\n",
    "from ray import tune\n",
    "from ray.train.xgboost import XGBoostTrainer\n",
    "\n",
    "ray.init(\"ray://10.200.2.51:10001\", namespace=\"experiment-1\", log_to_driver=False)"
   ]
  },
  {
   "cell_type": "code",
   "execution_count": null,
   "id": "c905aaf0",
   "metadata": {},
   "outputs": [
    {
     "name": "stdout",
     "output_type": "stream",
     "text": [
      "Name: ray\n",
      "Version: 2.40.0\n",
      "Summary: Ray provides a simple, universal API for building distributed applications.\n",
      "Home-page: https://github.com/ray-project/ray\n",
      "Author: Ray Team\n",
      "Author-email: ray-dev@googlegroups.com\n",
      "License: Apache 2.0\n",
      "Location: /root/miniconda3/envs/py3920/lib/python3.9/site-packages\n",
      "Requires: aiosignal, click, filelock, frozenlist, jsonschema, msgpack, packaging, protobuf, pyyaml, requests\n",
      "Required-by: \n"
     ]
    }
   ],
   "source": [
    "!pip show ray"
   ]
  },
  {
   "cell_type": "code",
   "execution_count": null,
   "id": "082ddd3f",
   "metadata": {},
   "outputs": [],
   "source": [
    "# Training Configuration\n",
    "TRAINING_CONFIG = {\n",
    "    \"model_path\": \"/root/thu/BigDataProject/tmp/ray/ray_results\", #\"model-checkpoints/final-model/xgb_model\",\n",
    "    \"test_size\": 0.3,\n",
    "    \"num_workers\": 1,\n",
    "    \"resources_per_worker\": {\"CPU\": 1},  # 4\n",
    "    \"use_gpu\": False,\n",
    "    \"num_boost_round\": 1,\n",
    "}\n",
    "\n",
    "# XGBoost Parameters\n",
    "XGBOOST_PARAMS = {\n",
    "    \"objective\": \"binary:logistic\",\n",
    "    \"eval_metric\": [\"logloss\", \"error\", \"rmse\", \"mae\", \"auc\"],\n",
    "    \"tree_method\": \"hist\",\n",
    "    \"max_depth\": 3,  # Set fixed value for max_depth\n",
    "    \"eta\": 0.3,\n",
    "    \"subsample\": 0.8,\n",
    "    \"colsample_bytree\": 0.8,\n",
    "}\n",
    "\n",
    "# Feature Configuration\n",
    "FEATURE_COLUMNS = [\n",
    "    \"brand\",\n",
    "    \"price\",\n",
    "    \"event_weekday\",\n",
    "    \"category_code_level1\",\n",
    "    \"category_code_level2\",\n",
    "    \"activity_count\",\n",
    "    \"is_purchased\",\n",
    "]\n",
    "\n",
    "CATEGORICAL_COLUMNS = [\n",
    "    \"brand\",\n",
    "    \"event_weekday\",\n",
    "    \"category_code_level1\",\n",
    "    \"category_code_level2\",\n",
    "]\n",
    "\n",
    "# Model Configuration\n",
    "MODEL_NAME = \"purchase_prediction_model\""
   ]
  },
  {
   "cell_type": "code",
   "execution_count": null,
   "id": "36c7280b",
   "metadata": {},
   "outputs": [
    {
     "name": "stdout",
     "output_type": "stream",
     "text": [
      "\u001b[33mWARNING: Running pip as the 'root' user can result in broken permissions and conflicting behaviour with the system package manager, possibly rendering your system unusable. It is recommended to use a virtual environment instead: https://pip.pypa.io/warnings/venv. Use the --root-user-action option if you know what you are doing and want to suppress this warning.\u001b[0m\u001b[33m\n",
      "\u001b[0m"
     ]
    }
   ],
   "source": [
    "!pip -q install IPython"
   ]
  },
  {
   "cell_type": "code",
   "execution_count": null,
   "id": "6c178854",
   "metadata": {},
   "outputs": [
    {
     "name": "stderr",
     "output_type": "stream",
     "text": [
      "2025-04-16 16:06:36,495\tINFO worker.py:1812 -- Started a local Ray instance. View the dashboard at \u001b[1m\u001b[32m127.0.0.1:8266 \u001b[39m\u001b[22m\n"
     ]
    },
    {
     "data": {
      "application/vnd.jupyter.widget-view+json": {
       "model_id": "bd1f415b570d461f8030982181d935e8",
       "version_major": 2,
       "version_minor": 0
      },
      "text/html": [
       "<div class=\"lm-Widget p-Widget lm-Panel p-Panel jp-Cell-outputWrapper\">\n",
       "    <div style=\"margin-left: 50px;display: flex;flex-direction: row;align-items: center\">\n",
       "        <div class=\"jp-RenderedHTMLCommon\" style=\"display: flex; flex-direction: row;\">\n",
       "  <svg viewBox=\"0 0 567 224\" fill=\"none\" xmlns=\"http://www.w3.org/2000/svg\" style=\"height: 3em;\">\n",
       "    <g clip-path=\"url(#clip0_4338_178347)\">\n",
       "        <path d=\"M341.29 165.561H355.29L330.13 129.051C345.63 123.991 354.21 112.051 354.21 94.2307C354.21 71.3707 338.72 58.1807 311.88 58.1807H271V165.561H283.27V131.661H311.8C314.25 131.661 316.71 131.501 319.01 131.351L341.25 165.561H341.29ZM283.29 119.851V70.0007H311.82C331.3 70.0007 342.34 78.2907 342.34 94.5507C342.34 111.271 331.34 119.861 311.82 119.861L283.29 119.851ZM451.4 138.411L463.4 165.561H476.74L428.74 58.1807H416L367.83 165.561H380.83L392.83 138.411H451.4ZM446.19 126.601H398L422 72.1407L446.24 126.601H446.19ZM526.11 128.741L566.91 58.1807H554.35L519.99 114.181L485.17 58.1807H472.44L514.01 129.181V165.541H526.13V128.741H526.11Z\" fill=\"var(--jp-ui-font-color0)\"/>\n",
       "        <path d=\"M82.35 104.44C84.0187 97.8827 87.8248 92.0678 93.1671 87.9146C98.5094 83.7614 105.083 81.5067 111.85 81.5067C118.617 81.5067 125.191 83.7614 130.533 87.9146C135.875 92.0678 139.681 97.8827 141.35 104.44H163.75C164.476 101.562 165.622 98.8057 167.15 96.2605L127.45 56.5605C121.071 60.3522 113.526 61.6823 106.235 60.3005C98.9443 58.9187 92.4094 54.9203 87.8602 49.0574C83.3109 43.1946 81.0609 35.8714 81.5332 28.4656C82.0056 21.0599 85.1679 14.0819 90.4252 8.8446C95.6824 3.60726 102.672 0.471508 110.08 0.0272655C117.487 -0.416977 124.802 1.86091 130.647 6.4324C136.493 11.0039 140.467 17.5539 141.821 24.8501C143.175 32.1463 141.816 39.6859 138 46.0505L177.69 85.7505C182.31 82.9877 187.58 81.4995 192.962 81.4375C198.345 81.3755 203.648 82.742 208.33 85.3976C213.012 88.0532 216.907 91.9029 219.616 96.5544C222.326 101.206 223.753 106.492 223.753 111.875C223.753 117.258 222.326 122.545 219.616 127.197C216.907 131.848 213.012 135.698 208.33 138.353C203.648 141.009 198.345 142.375 192.962 142.313C187.58 142.251 182.31 140.763 177.69 138L138 177.7C141.808 184.071 143.155 191.614 141.79 198.91C140.424 206.205 136.44 212.75 130.585 217.313C124.731 221.875 117.412 224.141 110.004 223.683C102.596 223.226 95.6103 220.077 90.3621 214.828C85.1139 209.58 81.9647 202.595 81.5072 195.187C81.0497 187.779 83.3154 180.459 87.878 174.605C92.4405 168.751 98.9853 164.766 106.281 163.401C113.576 162.035 121.119 163.383 127.49 167.19L167.19 127.49C165.664 124.941 164.518 122.182 163.79 119.3H141.39C139.721 125.858 135.915 131.673 130.573 135.826C125.231 139.98 118.657 142.234 111.89 142.234C105.123 142.234 98.5494 139.98 93.2071 135.826C87.8648 131.673 84.0587 125.858 82.39 119.3H60C58.1878 126.495 53.8086 132.78 47.6863 136.971C41.5641 141.163 34.1211 142.972 26.7579 142.059C19.3947 141.146 12.6191 137.574 7.70605 132.014C2.79302 126.454 0.0813599 119.29 0.0813599 111.87C0.0813599 104.451 2.79302 97.2871 7.70605 91.7272C12.6191 86.1673 19.3947 82.5947 26.7579 81.6817C34.1211 80.7686 41.5641 82.5781 47.6863 86.7696C53.8086 90.9611 58.1878 97.2456 60 104.44H82.35ZM100.86 204.32C103.407 206.868 106.759 208.453 110.345 208.806C113.93 209.159 117.527 208.258 120.522 206.256C123.517 204.254 125.725 201.276 126.771 197.828C127.816 194.38 127.633 190.677 126.253 187.349C124.874 184.021 122.383 181.274 119.205 179.577C116.027 177.88 112.359 177.337 108.826 178.042C105.293 178.746 102.113 180.654 99.8291 183.44C97.5451 186.226 96.2979 189.718 96.3 193.32C96.2985 195.364 96.7006 197.388 97.4831 199.275C98.2656 201.163 99.4132 202.877 100.86 204.32ZM204.32 122.88C206.868 120.333 208.453 116.981 208.806 113.396C209.159 109.811 208.258 106.214 206.256 103.219C204.254 100.223 201.275 98.0151 197.827 96.97C194.38 95.9249 190.676 96.1077 187.348 97.4873C184.02 98.8669 181.274 101.358 179.577 104.536C177.879 107.714 177.337 111.382 178.041 114.915C178.746 118.448 180.653 121.627 183.439 123.911C186.226 126.195 189.717 127.443 193.32 127.44C195.364 127.443 197.388 127.042 199.275 126.259C201.163 125.476 202.878 124.328 204.32 122.88ZM122.88 19.4205C120.333 16.8729 116.981 15.2876 113.395 14.9347C109.81 14.5817 106.213 15.483 103.218 17.4849C100.223 19.4868 98.0146 22.4654 96.9696 25.9131C95.9245 29.3608 96.1073 33.0642 97.4869 36.3922C98.8665 39.7202 101.358 42.4668 104.535 44.1639C107.713 45.861 111.381 46.4036 114.914 45.6992C118.447 44.9949 121.627 43.0871 123.911 40.301C126.195 37.515 127.442 34.0231 127.44 30.4205C127.44 28.3772 127.038 26.3539 126.255 24.4664C125.473 22.5788 124.326 20.8642 122.88 19.4205ZM19.42 100.86C16.8725 103.408 15.2872 106.76 14.9342 110.345C14.5813 113.93 15.4826 117.527 17.4844 120.522C19.4863 123.518 22.4649 125.726 25.9127 126.771C29.3604 127.816 33.0638 127.633 36.3918 126.254C39.7198 124.874 42.4664 122.383 44.1635 119.205C45.8606 116.027 46.4032 112.359 45.6988 108.826C44.9944 105.293 43.0866 102.114 40.3006 99.8296C37.5145 97.5455 34.0227 96.2983 30.42 96.3005C26.2938 96.3018 22.337 97.9421 19.42 100.86ZM100.86 100.86C98.3125 103.408 96.7272 106.76 96.3742 110.345C96.0213 113.93 96.9226 117.527 98.9244 120.522C100.926 123.518 103.905 125.726 107.353 126.771C110.8 127.816 114.504 127.633 117.832 126.254C121.16 124.874 123.906 122.383 125.604 119.205C127.301 116.027 127.843 112.359 127.139 108.826C126.434 105.293 124.527 102.114 121.741 99.8296C118.955 97.5455 115.463 96.2983 111.86 96.3005C109.817 96.299 107.793 96.701 105.905 97.4835C104.018 98.2661 102.303 99.4136 100.86 100.86Z\" fill=\"#00AEEF\"/>\n",
       "    </g>\n",
       "    <defs>\n",
       "        <clipPath id=\"clip0_4338_178347\">\n",
       "            <rect width=\"566.93\" height=\"223.75\" fill=\"white\"/>\n",
       "        </clipPath>\n",
       "    </defs>\n",
       "  </svg>\n",
       "</div>\n",
       "\n",
       "        <table class=\"jp-RenderedHTMLCommon\" style=\"border-collapse: collapse;color: var(--jp-ui-font-color1);font-size: var(--jp-ui-font-size1);\">\n",
       "    <tr>\n",
       "        <td style=\"text-align: left\"><b>Python version:</b></td>\n",
       "        <td style=\"text-align: left\"><b>3.9.20</b></td>\n",
       "    </tr>\n",
       "    <tr>\n",
       "        <td style=\"text-align: left\"><b>Ray version:</b></td>\n",
       "        <td style=\"text-align: left\"><b>2.40.0</b></td>\n",
       "    </tr>\n",
       "    <tr>\n",
       "    <td style=\"text-align: left\"><b>Dashboard:</b></td>\n",
       "    <td style=\"text-align: left\"><b><a href=\"http://127.0.0.1:8266\" target=\"_blank\">http://127.0.0.1:8266</a></b></td>\n",
       "</tr>\n",
       "\n",
       "</table>\n",
       "\n",
       "    </div>\n",
       "</div>\n"
      ],
      "text/plain": [
       "RayContext(dashboard_url='127.0.0.1:8266', python_version='3.9.20', ray_version='2.40.0', ray_commit='22541c38dbef25286cd6d19f1c151bf4fd62f2ed')"
      ]
     },
     "execution_count": 17,
     "metadata": {},
     "output_type": "execute_result"
    },
    {
     "name": "stderr",
     "output_type": "stream",
     "text": [
      "\u001b[36m(XGBoostTrainer pid=981964)\u001b[0m Started distributed worker processes: \n",
      "\u001b[36m(XGBoostTrainer pid=981964)\u001b[0m - (node_id=581f1d76228192da9cb69a88ab0bf9e3a003269de5b003767de24040, ip=10.200.2.51, pid=982076) world_rank=0, local_rank=0, node_rank=0\n",
      "\u001b[36m(RayTrainWorker pid=982076)\u001b[0m [16:06:56] Task [xgboost.ray-rank=00000000]:86c58a5299b6e5f1a4cb8f4501000000 got rank 0\n",
      "\u001b[36m(SplitCoordinator pid=982148)\u001b[0m Starting execution of Dataset. Full logs are in /tmp/ray/session_2025-04-16_16-06-34_502954_969871/logs/ray-data\n",
      "\u001b[36m(SplitCoordinator pid=982148)\u001b[0m Execution plan of Dataset: InputDataBuffer[Input] -> OutputSplitter[split(1, equal=True)]\n",
      "\u001b[36m(XGBoostTrainer pid=983742)\u001b[0m Started distributed worker processes: \n",
      "\u001b[36m(XGBoostTrainer pid=983742)\u001b[0m - (node_id=581f1d76228192da9cb69a88ab0bf9e3a003269de5b003767de24040, ip=10.200.2.51, pid=983819) world_rank=0, local_rank=0, node_rank=0\n",
      "\u001b[36m(RayTrainWorker pid=983819)\u001b[0m [16:09:05] Task [xgboost.ray-rank=00000000]:d0630f85dae27b5d2219c5db01000000 got rank 0\n",
      "\u001b[36m(SplitCoordinator pid=983855)\u001b[0m Starting execution of Dataset. Full logs are in /tmp/ray/session_2025-04-16_16-06-34_502954_969871/logs/ray-data\n",
      "\u001b[36m(SplitCoordinator pid=983855)\u001b[0m Execution plan of Dataset: InputDataBuffer[Input] -> OutputSplitter[split(1, equal=True)]\n",
      "\u001b[36m(XGBoostTrainer pid=983742)\u001b[0m [16:09:06] [0]\ttrain-logloss:0.14100\ttrain-error:0.01747\ttrain-rmse:0.15329\ttrain-mae:0.11148\ttrain-auc:0.70654\n",
      "\u001b[36m(RayTrainWorker pid=983819)\u001b[0m Checkpoint successfully created at: Checkpoint(filesystem=local, path=/root/ray_results/XGBoostTrainer_2025-04-16_16-09-01/XGBoostTrainer_6fce3_00000_0_2025-04-16_16-09-01/checkpoint_000000)\n",
      "\u001b[36m(XGBoostTrainer pid=997556)\u001b[0m Started distributed worker processes: \n",
      "\u001b[36m(XGBoostTrainer pid=997556)\u001b[0m - (node_id=581f1d76228192da9cb69a88ab0bf9e3a003269de5b003767de24040, ip=10.200.2.51, pid=997600) world_rank=0, local_rank=0, node_rank=0\n",
      "\u001b[36m(RayTrainWorker pid=997600)\u001b[0m [16:26:43] Task [xgboost.ray-rank=00000000]:df567695980e27f6619cc39001000000 got rank 0\n",
      "\u001b[36m(SplitCoordinator pid=997653)\u001b[0m Starting execution of Dataset. Full logs are in /tmp/ray/session_2025-04-16_16-06-34_502954_969871/logs/ray-data\n",
      "\u001b[36m(SplitCoordinator pid=997653)\u001b[0m Execution plan of Dataset: InputDataBuffer[Input] -> OutputSplitter[split(1, equal=True)]\n",
      "\u001b[36m(XGBoostTrainer pid=997556)\u001b[0m [16:26:44] [0]\ttrain-logloss:0.14100\ttrain-error:0.01747\ttrain-rmse:0.15329\ttrain-mae:0.11148\ttrain-auc:0.70654\n",
      "\u001b[36m(RayTrainWorker pid=997600)\u001b[0m Checkpoint successfully created at: Checkpoint(filesystem=local, path=/root/ray_results/XGBoostTrainer_2025-04-16_16-26-38/XGBoostTrainer_e6502_00000_0_2025-04-16_16-26-38/checkpoint_000000)\n",
      "\u001b[36m(XGBoostTrainer pid=1004353)\u001b[0m Started distributed worker processes: \n",
      "\u001b[36m(XGBoostTrainer pid=1004353)\u001b[0m - (node_id=581f1d76228192da9cb69a88ab0bf9e3a003269de5b003767de24040, ip=10.200.2.51, pid=1004455) world_rank=0, local_rank=0, node_rank=0\n",
      "\u001b[36m(RayTrainWorker pid=1004455)\u001b[0m [16:35:19] Task [xgboost.ray-rank=00000000]:493e271c0950f85e45e7e8f001000000 got rank 0\n",
      "\u001b[36m(SplitCoordinator pid=1004494)\u001b[0m Starting execution of Dataset. Full logs are in /tmp/ray/session_2025-04-16_16-06-34_502954_969871/logs/ray-data\n",
      "\u001b[36m(SplitCoordinator pid=1004494)\u001b[0m Execution plan of Dataset: InputDataBuffer[Input] -> OutputSplitter[split(1, equal=True)]\n",
      "\u001b[36m(XGBoostTrainer pid=1004353)\u001b[0m [16:35:21] [0]\ttrain-logloss:0.14100\ttrain-error:0.01747\ttrain-rmse:0.15329\ttrain-mae:0.11148\ttrain-auc:0.70654\n",
      "\u001b[36m(RayTrainWorker pid=1004455)\u001b[0m Checkpoint successfully created at: Checkpoint(filesystem=local, path=/root/ray_results/XGBoostTrainer_2025-04-16_16-35-15/XGBoostTrainer_1a148_00000_0_2025-04-16_16-35-15/checkpoint_000000)\n",
      "\u001b[36m(XGBoostTrainer pid=1006409)\u001b[0m Started distributed worker processes: \n",
      "\u001b[36m(XGBoostTrainer pid=1006409)\u001b[0m - (node_id=581f1d76228192da9cb69a88ab0bf9e3a003269de5b003767de24040, ip=10.200.2.51, pid=1006465) world_rank=0, local_rank=0, node_rank=0\n",
      "\u001b[36m(RayTrainWorker pid=1006465)\u001b[0m [16:37:49] Task [xgboost.ray-rank=00000000]:a93bbacad5269f9bb1af481601000000 got rank 0\n",
      "\u001b[36m(SplitCoordinator pid=1006546)\u001b[0m Starting execution of Dataset. Full logs are in /tmp/ray/session_2025-04-16_16-06-34_502954_969871/logs/ray-data\n",
      "\u001b[36m(SplitCoordinator pid=1006546)\u001b[0m Execution plan of Dataset: InputDataBuffer[Input] -> OutputSplitter[split(1, equal=True)]\n",
      "\u001b[36m(XGBoostTrainer pid=1006409)\u001b[0m [16:37:50] [0]\ttrain-logloss:0.14100\ttrain-error:0.01747\ttrain-rmse:0.15329\ttrain-mae:0.11148\ttrain-auc:0.70654\n",
      "\u001b[36m(RayTrainWorker pid=1006465)\u001b[0m Checkpoint successfully created at: Checkpoint(filesystem=local, path=/root/ray_results/XGBoostTrainer_2025-04-16_16-37-45/XGBoostTrainer_73801_00000_0_2025-04-16_16-37-45/checkpoint_000000)\n",
      "\u001b[36m(XGBoostTrainer pid=1012618)\u001b[0m Started distributed worker processes: \n",
      "\u001b[36m(XGBoostTrainer pid=1012618)\u001b[0m - (node_id=581f1d76228192da9cb69a88ab0bf9e3a003269de5b003767de24040, ip=10.200.2.51, pid=1012714) world_rank=0, local_rank=0, node_rank=0\n",
      "\u001b[36m(RayTrainWorker pid=1012714)\u001b[0m [16:46:03] Task [xgboost.ray-rank=00000000]:a6f805518e9b1da30d2bac2301000000 got rank 0\n",
      "\u001b[36m(SplitCoordinator pid=1012771)\u001b[0m Starting execution of Dataset. Full logs are in /tmp/ray/session_2025-04-16_16-06-34_502954_969871/logs/ray-data\n",
      "\u001b[36m(SplitCoordinator pid=1012771)\u001b[0m Execution plan of Dataset: InputDataBuffer[Input] -> OutputSplitter[split(1, equal=True)]\n",
      "\u001b[36m(XGBoostTrainer pid=1012618)\u001b[0m [16:46:04] [0]\ttrain-logloss:0.14100\ttrain-error:0.01747\ttrain-rmse:0.15329\ttrain-mae:0.11148\ttrain-auc:0.70654\n",
      "\u001b[36m(RayTrainWorker pid=1012714)\u001b[0m Checkpoint successfully created at: Checkpoint(filesystem=local, path=/root/ray_results/XGBoostTrainer_2025-04-16_16-45-58/XGBoostTrainer_99786_00000_0_2025-04-16_16-45-58/checkpoint_000000)\n",
      "\u001b[36m(XGBoostTrainer pid=1175370)\u001b[0m Started distributed worker processes: \n",
      "\u001b[36m(XGBoostTrainer pid=1175370)\u001b[0m - (node_id=581f1d76228192da9cb69a88ab0bf9e3a003269de5b003767de24040, ip=10.200.2.51, pid=1175430) world_rank=0, local_rank=0, node_rank=0\n",
      "\u001b[36m(RayTrainWorker pid=1175430)\u001b[0m [20:29:26] Task [xgboost.ray-rank=00000000]:e7bd6f98d52bbf99e240003801000000 got rank 0\n",
      "\u001b[36m(SplitCoordinator pid=1175504)\u001b[0m Starting execution of Dataset. Full logs are in /tmp/ray/session_2025-04-16_16-06-34_502954_969871/logs/ray-data\n",
      "\u001b[36m(SplitCoordinator pid=1175504)\u001b[0m Execution plan of Dataset: InputDataBuffer[Input] -> OutputSplitter[split(1, equal=True)]\n",
      "\u001b[36m(XGBoostTrainer pid=1175370)\u001b[0m [20:29:28] [0]\ttrain-logloss:0.14100\ttrain-error:0.01747\ttrain-rmse:0.15329\ttrain-mae:0.11148\ttrain-auc:0.70654\n",
      "\u001b[36m(RayTrainWorker pid=1175430)\u001b[0m Checkpoint successfully created at: Checkpoint(filesystem=local, path=/root/ray_results/XGBoostTrainer_2025-04-16_20-29-22/XGBoostTrainer_cf059_00000_0_2025-04-16_20-29-22/checkpoint_000000)\n"
     ]
    }
   ],
   "source": [
    "ray.shutdown()\n",
    "ray.init()"
   ]
  },
  {
   "cell_type": "code",
   "execution_count": null,
   "id": "59c08ae9",
   "metadata": {},
   "outputs": [],
   "source": [
    "import xgboost as xgb "
   ]
  },
  {
   "cell_type": "code",
   "execution_count": null,
   "id": "e22970bb",
   "metadata": {},
   "outputs": [],
   "source": [
    "class ModelPipeline:\n",
    "    def __init__(self):        \n",
    "        # Kết nối đến PostgreSQL\n",
    "        self.postgres_conn = psycopg2.connect(\n",
    "            dbname=\"airflow\",\n",
    "            user=\"airflow\",\n",
    "            password=\"airflow\",\n",
    "            host=\"10.200.2.51\",\n",
    "            port=\"5432\"\n",
    "        )\n",
    "    \n",
    "        mlflow.set_tracking_uri(\"http://10.200.2.51:5001\")\n",
    "    \n",
    "    def filter_features(self, df: pd.DataFrame) -> pd.DataFrame:\n",
    "        columns_to_exclude = [\"event_timestamp\", \"user_id\", \"product_id\", \"user_session\", \"is_purchased\"]\n",
    "        feature_columns = [col for col in df.columns if col not in columns_to_exclude]\n",
    "        return df[feature_columns + [\"is_purchased\"]]\n",
    "\n",
    "    def load_training_data(self) -> Dict[str, List[Dict]]:\n",
    "        # Truy vấn và đọc dữ liệu từ cơ sở dữ liệu\n",
    "        query = \"\"\"\n",
    "        SELECT\n",
    "            CAST(event_timestamp AS text) AS event_timestamp,\n",
    "            user_id,\n",
    "            product_id,\n",
    "            user_session,\n",
    "            price,\n",
    "            brand,\n",
    "            category_code_level1,\n",
    "            category_code_level2,\n",
    "            event_weekday,\n",
    "            activity_count,\n",
    "            is_purchased\n",
    "        FROM processed_data\n",
    "        \"\"\"\n",
    "\n",
    "        df = pd.read_sql(query, self.postgres_conn)\n",
    "        self.postgres_conn.close()\n",
    "\n",
    "        df['event_timestamp'] = pd.to_datetime(df['event_timestamp'], errors='coerce')\n",
    "        df[\"price\"] = df[\"price\"].astype(float)\n",
    "\n",
    "        # Create category mappings\n",
    "        category_mappings = {}\n",
    "        for col in CATEGORICAL_COLUMNS:\n",
    "            unique_values = df[col].dropna().unique()\n",
    "            category_mapping = {val: idx for idx, val in enumerate(sorted(unique_values))}\n",
    "            category_mappings[col] = category_mapping\n",
    "            df[col] = df[col].map(category_mapping).fillna(-1)\n",
    "\n",
    "        return {\n",
    "            \"data\": df.to_dict(orient=\"records\"),\n",
    "            \"category_mappings\": category_mappings,\n",
    "        }\n",
    "\n",
    "    def cu_train_final_model(self, data: dict) -> dict:\n",
    "        # Huấn luyện mô hình XGBoost với tham số cố định\n",
    "        experiment_name = f\"xgb_final_{datetime.now().strftime('%Y%m%d%H%M%S')}\"\n",
    "        mlflow.create_experiment(experiment_name)\n",
    "\n",
    "        with mlflow.start_run() as run:\n",
    "            # Lấy dữ liệu đã lọc\n",
    "            df = pd.DataFrame(data[\"data\"])\n",
    "            filtered_df = self.filter_features(df)\n",
    "            dataset = ray.data.from_pandas(filtered_df)\n",
    "\n",
    "            # Huấn luyện mô hình\n",
    "            trainer = XGBoostTrainer(\n",
    "                label_column=\"is_purchased\",\n",
    "                num_boost_round=TRAINING_CONFIG[\"num_boost_round\"],\n",
    "                params=XGBOOST_PARAMS,\n",
    "                datasets={\"train\": dataset},\n",
    "            )\n",
    "            \n",
    "            result = trainer.fit()\n",
    "\n",
    "            # Log model và metrics vào MLflow\n",
    "            mlflow.xgboost.log_model(\n",
    "                result.checkpoint.get_model(),\n",
    "                \"model\",\n",
    "                registered_model_name=MODEL_NAME,\n",
    "            )\n",
    "\n",
    "            if \"category_mappings\" in data:\n",
    "                mlflow.log_dict(data[\"category_mappings\"], \"category_mappings.json\")\n",
    "\n",
    "            return {\n",
    "                \"metrics\": result.metrics,\n",
    "                \"checkpoint_path\": result.checkpoint.path,\n",
    "                \"mlflow_run_id\": run.info.run_id,\n",
    "                \"mlflow_model_uri\": f\"models:/{MODEL_NAME}/Staging\",\n",
    "            }\n",
    "            \n",
    "    def train_final_model(self, data: dict) -> dict:\n",
    "        # Huấn luyện mô hình XGBoost với tham số cố định\n",
    "        experiment_name = f\"xgb_final_{datetime.now().strftime('%Y%m%d%H%M%S')}\"\n",
    "        mlflow.create_experiment(experiment_name)\n",
    "\n",
    "        with mlflow.start_run() as run:\n",
    "            # Lấy dữ liệu đã lọc\n",
    "            df = pd.DataFrame(data[\"data\"])\n",
    "            filtered_df = self.filter_features(df)\n",
    "            dataset = ray.data.from_pandas(filtered_df)\n",
    "\n",
    "            # Huấn luyện mô hình\n",
    "            trainer = XGBoostTrainer(\n",
    "                label_column=\"is_purchased\",\n",
    "                num_boost_round=TRAINING_CONFIG[\"num_boost_round\"],\n",
    "                params=XGBOOST_PARAMS,\n",
    "                datasets={\"train\": dataset},\n",
    "            )\n",
    "\n",
    "            result = trainer.fit()\n",
    "\n",
    "            # Load model from checkpoint using XGBoost API\n",
    "            best_model_path = os.path.join(result.checkpoint.path, \"model.ubj\")\n",
    "            best_model = xgb.Booster()  # Tạo một đối tượng Booster trống\n",
    "            best_model.load_model(best_model_path)  # Tải mô hình từ tệp .ubj\n",
    "\n",
    "            # Log model and metrics to MLflow using mlflow.pyfunc.log_model\n",
    "            with open(\"requirements.txt\", \"w\") as f:  # Tạo tệp requirements tạm thời\n",
    "                f.write(\"xgboost==\" + xgb.__version__)  # Ghi phiên bản XGBoost vào\n",
    "            mlflow.pyfunc.log_model(\n",
    "                python_model=best_model,  # Truyền trực tiếp đối tượng mô hình XGBoost\n",
    "                artifact_path=\"model\",\n",
    "                registered_model_name=MODEL_NAME,\n",
    "                # Thêm dependencies để đảm bảo môi trường phục vụ có XGBoost\n",
    "                # Nếu bạn có các dependencies khác, hãy thêm chúng vào requirements.txt\n",
    "                pip_requirements=[\"requirements.txt\"],  \n",
    "            )\n",
    "\n",
    "            mlflow.log_metrics(result.metrics)\n",
    "\n",
    "            if \"category_mappings\" in data:\n",
    "                mlflow.log_dict(data[\"category_mappings\"], \"category_mappings.json\")\n",
    "\n",
    "            return {\n",
    "                \"metrics\": result.metrics,\n",
    "                \"checkpoint_path\": result.checkpoint.path,\n",
    "                \"mlflow_run_id\": run.info.run_id,\n",
    "                \"mlflow_model_uri\": f\"runs:/{run.info.run_id}/model\",  # corrected mlflow_model_uri\n",
    "            }            "
   ]
  },
  {
   "cell_type": "code",
   "execution_count": null,
   "id": "71068a92",
   "metadata": {},
   "outputs": [],
   "source": [
    "# Pipeline: Load dữ liệu và huấn luyện mô hình\n",
    "pipeline = ModelPipeline()"
   ]
  },
  {
   "cell_type": "code",
   "execution_count": null,
   "id": "843c2aee",
   "metadata": {},
   "outputs": [
    {
     "name": "stderr",
     "output_type": "stream",
     "text": [
      "/tmp/ipykernel_1182708/856490562.py:37: UserWarning: pandas only supports SQLAlchemy connectable (engine/connection) or database string URI or sqlite3 DBAPI2 connection. Other DBAPI2 objects are not tested. Please consider using SQLAlchemy.\n",
      "  df = pd.read_sql(query, self.postgres_conn)\n",
      "/tmp/ipykernel_1182708/856490562.py:40: UserWarning: Could not infer format, so each element will be parsed individually, falling back to `dateutil`. To ensure parsing is consistent and as-expected, please specify a format.\n",
      "  df['event_timestamp'] = pd.to_datetime(df['event_timestamp'], errors='coerce')\n"
     ]
    }
   ],
   "source": [
    "# Load and preprocess data\n",
    "data = pipeline.load_training_data()"
   ]
  },
  {
   "cell_type": "code",
   "execution_count": null,
   "id": "703eb3f7",
   "metadata": {},
   "outputs": [
    {
     "name": "stderr",
     "output_type": "stream",
     "text": [
      "2025-04-16 20:40:37,612\tERROR services.py:1420 -- Ray Client is not connected. Please connect by calling `ray.init`.\n"
     ]
    },
    {
     "name": "stdout",
     "output_type": "stream",
     "text": [
      "🏃 View run delightful-stoat-274 at: http://10.200.2.51:5001/#/experiments/0/runs/f99d858790e245f796c1f7d5166b1cef\n",
      "🧪 View experiment at: http://10.200.2.51:5001/#/experiments/0\n"
     ]
    },
    {
     "ename": "AssertionError",
     "evalue": "",
     "output_type": "error",
     "traceback": [
      "\u001b[0;31m---------------------------------------------------------------------------\u001b[0m",
      "\u001b[0;31mAssertionError\u001b[0m                            Traceback (most recent call last)",
      "Cell \u001b[0;32mIn[10], line 2\u001b[0m\n\u001b[1;32m      1\u001b[0m \u001b[38;5;66;03m# Train final model\u001b[39;00m\n\u001b[0;32m----> 2\u001b[0m results \u001b[38;5;241m=\u001b[39m \u001b[43mpipeline\u001b[49m\u001b[38;5;241;43m.\u001b[39;49m\u001b[43mtrain_final_model\u001b[49m\u001b[43m(\u001b[49m\u001b[43mdata\u001b[49m\u001b[43m)\u001b[49m\n",
      "Cell \u001b[0;32mIn[5], line 150\u001b[0m, in \u001b[0;36mModelPipeline.train_final_model\u001b[0;34m(self, data)\u001b[0m\n\u001b[1;32m    148\u001b[0m df \u001b[38;5;241m=\u001b[39m pd\u001b[38;5;241m.\u001b[39mDataFrame(data[\u001b[38;5;124m\"\u001b[39m\u001b[38;5;124mdata\u001b[39m\u001b[38;5;124m\"\u001b[39m])\n\u001b[1;32m    149\u001b[0m filtered_df \u001b[38;5;241m=\u001b[39m \u001b[38;5;28mself\u001b[39m\u001b[38;5;241m.\u001b[39mfilter_features(df)\n\u001b[0;32m--> 150\u001b[0m dataset \u001b[38;5;241m=\u001b[39m \u001b[43mray\u001b[49m\u001b[38;5;241;43m.\u001b[39;49m\u001b[43mdata\u001b[49m\u001b[38;5;241;43m.\u001b[39;49m\u001b[43mfrom_pandas\u001b[49m\u001b[43m(\u001b[49m\u001b[43mfiltered_df\u001b[49m\u001b[43m)\u001b[49m\n\u001b[1;32m    152\u001b[0m \u001b[38;5;66;03m# Huấn luyện mô hình\u001b[39;00m\n\u001b[1;32m    153\u001b[0m trainer \u001b[38;5;241m=\u001b[39m XGBoostTrainer(\n\u001b[1;32m    154\u001b[0m     label_column\u001b[38;5;241m=\u001b[39m\u001b[38;5;124m\"\u001b[39m\u001b[38;5;124mis_purchased\u001b[39m\u001b[38;5;124m\"\u001b[39m,\n\u001b[1;32m    155\u001b[0m     num_boost_round\u001b[38;5;241m=\u001b[39mTRAINING_CONFIG[\u001b[38;5;124m\"\u001b[39m\u001b[38;5;124mnum_boost_round\u001b[39m\u001b[38;5;124m\"\u001b[39m],\n\u001b[1;32m    156\u001b[0m     params\u001b[38;5;241m=\u001b[39mXGBOOST_PARAMS,\n\u001b[1;32m    157\u001b[0m     datasets\u001b[38;5;241m=\u001b[39m{\u001b[38;5;124m\"\u001b[39m\u001b[38;5;124mtrain\u001b[39m\u001b[38;5;124m\"\u001b[39m: dataset},\n\u001b[1;32m    158\u001b[0m )\n",
      "File \u001b[0;32m~/miniconda3/envs/py39/lib/python3.9/site-packages/ray/data/read_api.py:2708\u001b[0m, in \u001b[0;36mfrom_pandas\u001b[0;34m(dfs, override_num_blocks)\u001b[0m\n\u001b[1;32m   2705\u001b[0m \u001b[38;5;28;01mif\u001b[39;00m context\u001b[38;5;241m.\u001b[39menable_tensor_extension_casting:\n\u001b[1;32m   2706\u001b[0m     dfs \u001b[38;5;241m=\u001b[39m [_cast_ndarray_columns_to_tensor_extension(df\u001b[38;5;241m.\u001b[39mcopy()) \u001b[38;5;28;01mfor\u001b[39;00m df \u001b[38;5;129;01min\u001b[39;00m dfs]\n\u001b[0;32m-> 2708\u001b[0m \u001b[38;5;28;01mreturn\u001b[39;00m from_pandas_refs([ray\u001b[38;5;241m.\u001b[39mput(df) \u001b[38;5;28;01mfor\u001b[39;00m df \u001b[38;5;129;01min\u001b[39;00m dfs])\n",
      "File \u001b[0;32m~/miniconda3/envs/py39/lib/python3.9/site-packages/ray/data/read_api.py:2708\u001b[0m, in \u001b[0;36m<listcomp>\u001b[0;34m(.0)\u001b[0m\n\u001b[1;32m   2705\u001b[0m \u001b[38;5;28;01mif\u001b[39;00m context\u001b[38;5;241m.\u001b[39menable_tensor_extension_casting:\n\u001b[1;32m   2706\u001b[0m     dfs \u001b[38;5;241m=\u001b[39m [_cast_ndarray_columns_to_tensor_extension(df\u001b[38;5;241m.\u001b[39mcopy()) \u001b[38;5;28;01mfor\u001b[39;00m df \u001b[38;5;129;01min\u001b[39;00m dfs]\n\u001b[0;32m-> 2708\u001b[0m \u001b[38;5;28;01mreturn\u001b[39;00m from_pandas_refs([\u001b[43mray\u001b[49m\u001b[38;5;241;43m.\u001b[39;49m\u001b[43mput\u001b[49m\u001b[43m(\u001b[49m\u001b[43mdf\u001b[49m\u001b[43m)\u001b[49m \u001b[38;5;28;01mfor\u001b[39;00m df \u001b[38;5;129;01min\u001b[39;00m dfs])\n",
      "File \u001b[0;32m~/miniconda3/envs/py39/lib/python3.9/site-packages/ray/_private/auto_init_hook.py:20\u001b[0m, in \u001b[0;36mwrap_auto_init.<locals>.auto_init_wrapper\u001b[0;34m(*args, **kwargs)\u001b[0m\n\u001b[1;32m     18\u001b[0m \u001b[38;5;129m@wraps\u001b[39m(fn)\n\u001b[1;32m     19\u001b[0m \u001b[38;5;28;01mdef\u001b[39;00m\u001b[38;5;250m \u001b[39m\u001b[38;5;21mauto_init_wrapper\u001b[39m(\u001b[38;5;241m*\u001b[39margs, \u001b[38;5;241m*\u001b[39m\u001b[38;5;241m*\u001b[39mkwargs):\n\u001b[0;32m---> 20\u001b[0m     \u001b[43mauto_init_ray\u001b[49m\u001b[43m(\u001b[49m\u001b[43m)\u001b[49m\n\u001b[1;32m     21\u001b[0m     \u001b[38;5;28;01mreturn\u001b[39;00m fn(\u001b[38;5;241m*\u001b[39margs, \u001b[38;5;241m*\u001b[39m\u001b[38;5;241m*\u001b[39mkwargs)\n",
      "File \u001b[0;32m~/miniconda3/envs/py39/lib/python3.9/site-packages/ray/_private/auto_init_hook.py:14\u001b[0m, in \u001b[0;36mauto_init_ray\u001b[0;34m()\u001b[0m\n\u001b[1;32m     12\u001b[0m \u001b[38;5;28;01mwith\u001b[39;00m auto_init_lock:\n\u001b[1;32m     13\u001b[0m     \u001b[38;5;28;01mif\u001b[39;00m \u001b[38;5;129;01mnot\u001b[39;00m ray\u001b[38;5;241m.\u001b[39mis_initialized():\n\u001b[0;32m---> 14\u001b[0m         \u001b[43mray\u001b[49m\u001b[38;5;241;43m.\u001b[39;49m\u001b[43minit\u001b[49m\u001b[43m(\u001b[49m\u001b[43m)\u001b[49m\n",
      "File \u001b[0;32m~/miniconda3/envs/py39/lib/python3.9/site-packages/ray/_private/client_mode_hook.py:103\u001b[0m, in \u001b[0;36mclient_mode_hook.<locals>.wrapper\u001b[0;34m(*args, **kwargs)\u001b[0m\n\u001b[1;32m    101\u001b[0m     \u001b[38;5;28;01mif\u001b[39;00m func\u001b[38;5;241m.\u001b[39m\u001b[38;5;18m__name__\u001b[39m \u001b[38;5;241m!=\u001b[39m \u001b[38;5;124m\"\u001b[39m\u001b[38;5;124minit\u001b[39m\u001b[38;5;124m\"\u001b[39m \u001b[38;5;129;01mor\u001b[39;00m is_client_mode_enabled_by_default:\n\u001b[1;32m    102\u001b[0m         \u001b[38;5;28;01mreturn\u001b[39;00m \u001b[38;5;28mgetattr\u001b[39m(ray, func\u001b[38;5;241m.\u001b[39m\u001b[38;5;18m__name__\u001b[39m)(\u001b[38;5;241m*\u001b[39margs, \u001b[38;5;241m*\u001b[39m\u001b[38;5;241m*\u001b[39mkwargs)\n\u001b[0;32m--> 103\u001b[0m \u001b[38;5;28;01mreturn\u001b[39;00m \u001b[43mfunc\u001b[49m\u001b[43m(\u001b[49m\u001b[38;5;241;43m*\u001b[39;49m\u001b[43margs\u001b[49m\u001b[43m,\u001b[49m\u001b[43m \u001b[49m\u001b[38;5;241;43m*\u001b[39;49m\u001b[38;5;241;43m*\u001b[39;49m\u001b[43mkwargs\u001b[49m\u001b[43m)\u001b[49m\n",
      "File \u001b[0;32m~/miniconda3/envs/py39/lib/python3.9/site-packages/ray/_private/worker.py:1744\u001b[0m, in \u001b[0;36minit\u001b[0;34m(address, num_cpus, num_gpus, resources, labels, object_store_memory, local_mode, ignore_reinit_error, include_dashboard, dashboard_host, dashboard_port, job_config, configure_logging, logging_level, logging_format, logging_config, log_to_driver, namespace, runtime_env, storage, **kwargs)\u001b[0m\n\u001b[1;32m   1711\u001b[0m     ray_params \u001b[38;5;241m=\u001b[39m ray\u001b[38;5;241m.\u001b[39m_private\u001b[38;5;241m.\u001b[39mparameter\u001b[38;5;241m.\u001b[39mRayParams(\n\u001b[1;32m   1712\u001b[0m         node_ip_address\u001b[38;5;241m=\u001b[39m_node_ip_address,\n\u001b[1;32m   1713\u001b[0m         object_ref_seed\u001b[38;5;241m=\u001b[39m\u001b[38;5;28;01mNone\u001b[39;00m,\n\u001b[0;32m   (...)\u001b[0m\n\u001b[1;32m   1738\u001b[0m         node_name\u001b[38;5;241m=\u001b[39m_node_name,\n\u001b[1;32m   1739\u001b[0m     )\n\u001b[1;32m   1740\u001b[0m     \u001b[38;5;66;03m# Start the Ray processes. We set shutdown_at_exit=False because we\u001b[39;00m\n\u001b[1;32m   1741\u001b[0m     \u001b[38;5;66;03m# shutdown the node in the ray.shutdown call that happens in the atexit\u001b[39;00m\n\u001b[1;32m   1742\u001b[0m     \u001b[38;5;66;03m# handler. We still spawn a reaper process in case the atexit handler\u001b[39;00m\n\u001b[1;32m   1743\u001b[0m     \u001b[38;5;66;03m# isn't called.\u001b[39;00m\n\u001b[0;32m-> 1744\u001b[0m     _global_node \u001b[38;5;241m=\u001b[39m \u001b[43mray\u001b[49m\u001b[38;5;241;43m.\u001b[39;49m\u001b[43m_private\u001b[49m\u001b[38;5;241;43m.\u001b[39;49m\u001b[43mnode\u001b[49m\u001b[38;5;241;43m.\u001b[39;49m\u001b[43mNode\u001b[49m\u001b[43m(\u001b[49m\n\u001b[1;32m   1745\u001b[0m \u001b[43m        \u001b[49m\u001b[43mray_params\u001b[49m\u001b[38;5;241;43m=\u001b[39;49m\u001b[43mray_params\u001b[49m\u001b[43m,\u001b[49m\n\u001b[1;32m   1746\u001b[0m \u001b[43m        \u001b[49m\u001b[43mhead\u001b[49m\u001b[38;5;241;43m=\u001b[39;49m\u001b[38;5;28;43;01mTrue\u001b[39;49;00m\u001b[43m,\u001b[49m\n\u001b[1;32m   1747\u001b[0m \u001b[43m        \u001b[49m\u001b[43mshutdown_at_exit\u001b[49m\u001b[38;5;241;43m=\u001b[39;49m\u001b[38;5;28;43;01mFalse\u001b[39;49;00m\u001b[43m,\u001b[49m\n\u001b[1;32m   1748\u001b[0m \u001b[43m        \u001b[49m\u001b[43mspawn_reaper\u001b[49m\u001b[38;5;241;43m=\u001b[39;49m\u001b[38;5;28;43;01mTrue\u001b[39;49;00m\u001b[43m,\u001b[49m\n\u001b[1;32m   1749\u001b[0m \u001b[43m        \u001b[49m\u001b[43mray_init_cluster\u001b[49m\u001b[38;5;241;43m=\u001b[39;49m\u001b[38;5;28;43;01mTrue\u001b[39;49;00m\u001b[43m,\u001b[49m\n\u001b[1;32m   1750\u001b[0m \u001b[43m    \u001b[49m\u001b[43m)\u001b[49m\n\u001b[1;32m   1751\u001b[0m \u001b[38;5;28;01melse\u001b[39;00m:\n\u001b[1;32m   1752\u001b[0m     \u001b[38;5;66;03m# In this case, we are connecting to an existing cluster.\u001b[39;00m\n\u001b[1;32m   1753\u001b[0m     \u001b[38;5;28;01mif\u001b[39;00m num_cpus \u001b[38;5;129;01mis\u001b[39;00m \u001b[38;5;129;01mnot\u001b[39;00m \u001b[38;5;28;01mNone\u001b[39;00m \u001b[38;5;129;01mor\u001b[39;00m num_gpus \u001b[38;5;129;01mis\u001b[39;00m \u001b[38;5;129;01mnot\u001b[39;00m \u001b[38;5;28;01mNone\u001b[39;00m:\n",
      "File \u001b[0;32m~/miniconda3/envs/py39/lib/python3.9/site-packages/ray/_private/node.py:364\u001b[0m, in \u001b[0;36mNode.__init__\u001b[0;34m(self, ray_params, head, shutdown_at_exit, spawn_reaper, connect_only, default_worker, ray_init_cluster)\u001b[0m\n\u001b[1;32m    361\u001b[0m \u001b[38;5;28mself\u001b[39m\u001b[38;5;241m.\u001b[39mvalidate_ip_port(\u001b[38;5;28mself\u001b[39m\u001b[38;5;241m.\u001b[39mgcs_address)\n\u001b[1;32m    363\u001b[0m \u001b[38;5;28;01mif\u001b[39;00m \u001b[38;5;129;01mnot\u001b[39;00m connect_only:\n\u001b[0;32m--> 364\u001b[0m     \u001b[38;5;28;43mself\u001b[39;49m\u001b[38;5;241;43m.\u001b[39;49m\u001b[43m_record_stats\u001b[49m\u001b[43m(\u001b[49m\u001b[43m)\u001b[49m\n",
      "File \u001b[0;32m~/miniconda3/envs/py39/lib/python3.9/site-packages/ray/_private/node.py:1844\u001b[0m, in \u001b[0;36mNode._record_stats\u001b[0;34m(self)\u001b[0m\n\u001b[1;32m   1842\u001b[0m \u001b[38;5;28;01mif\u001b[39;00m \u001b[38;5;129;01mnot\u001b[39;00m ray\u001b[38;5;241m.\u001b[39mexperimental\u001b[38;5;241m.\u001b[39minternal_kv\u001b[38;5;241m.\u001b[39m_internal_kv_initialized():\n\u001b[1;32m   1843\u001b[0m     ray\u001b[38;5;241m.\u001b[39mexperimental\u001b[38;5;241m.\u001b[39minternal_kv\u001b[38;5;241m.\u001b[39m_initialize_internal_kv(\u001b[38;5;28mself\u001b[39m\u001b[38;5;241m.\u001b[39mget_gcs_client())\n\u001b[0;32m-> 1844\u001b[0m \u001b[38;5;28;01massert\u001b[39;00m ray\u001b[38;5;241m.\u001b[39mexperimental\u001b[38;5;241m.\u001b[39minternal_kv\u001b[38;5;241m.\u001b[39m_internal_kv_initialized()\n\u001b[1;32m   1845\u001b[0m \u001b[38;5;28;01mif\u001b[39;00m \u001b[38;5;28mself\u001b[39m\u001b[38;5;241m.\u001b[39mhead:\n\u001b[1;32m   1846\u001b[0m     \u001b[38;5;66;03m# record head node stats\u001b[39;00m\n\u001b[1;32m   1847\u001b[0m     gcs_storage_type \u001b[38;5;241m=\u001b[39m (\n\u001b[1;32m   1848\u001b[0m         \u001b[38;5;124m\"\u001b[39m\u001b[38;5;124mredis\u001b[39m\u001b[38;5;124m\"\u001b[39m \u001b[38;5;28;01mif\u001b[39;00m os\u001b[38;5;241m.\u001b[39menviron\u001b[38;5;241m.\u001b[39mget(\u001b[38;5;124m\"\u001b[39m\u001b[38;5;124mRAY_REDIS_ADDRESS\u001b[39m\u001b[38;5;124m\"\u001b[39m) \u001b[38;5;129;01mis\u001b[39;00m \u001b[38;5;129;01mnot\u001b[39;00m \u001b[38;5;28;01mNone\u001b[39;00m \u001b[38;5;28;01melse\u001b[39;00m \u001b[38;5;124m\"\u001b[39m\u001b[38;5;124mmemory\u001b[39m\u001b[38;5;124m\"\u001b[39m\n\u001b[1;32m   1849\u001b[0m     )\n",
      "\u001b[0;31mAssertionError\u001b[0m: "
     ]
    }
   ],
   "source": [
    "# Train final model\n",
    "results = pipeline.train_final_model(data)"
   ]
  },
  {
   "cell_type": "code",
   "execution_count": null,
   "id": "c495215e",
   "metadata": {},
   "outputs": [],
   "source": [
    "# Kết quả\n",
    "print(\"Training completed successfully!\")\n",
    "print(f\"Final metrics: {results['metrics']}\")\n",
    "print(f\"Model URI: {results['mlflow_model_uri']}\")"
   ]
  },
  {
   "cell_type": "code",
   "execution_count": null,
   "id": "32dc9274",
   "metadata": {},
   "outputs": [],
   "source": []
  }
 ],
 "metadata": {
  "kernelspec": {
   "display_name": "py3920",
   "language": "python",
   "name": "python3"
  },
  "language_info": {
   "codemirror_mode": {
    "name": "ipython",
    "version": 3
   },
   "file_extension": ".py",
   "mimetype": "text/x-python",
   "name": "python",
   "nbconvert_exporter": "python",
   "pygments_lexer": "ipython3",
   "version": "3.9.20"
  }
 },
 "nbformat": 4,
 "nbformat_minor": 5
}
